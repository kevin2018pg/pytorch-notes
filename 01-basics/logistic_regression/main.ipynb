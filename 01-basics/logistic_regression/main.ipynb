{
 "cells": [
  {
   "cell_type": "code",
   "execution_count": 1,
   "metadata": {},
   "outputs": [],
   "source": [
    "import torch\n",
    "import torch.nn as nn\n",
    "import torchvision\n",
    "import torchvision.transforms as transforms"
   ]
  },
  {
   "cell_type": "code",
   "execution_count": 5,
   "metadata": {},
   "outputs": [
    {
     "name": "stdout",
     "output_type": "stream",
     "text": [
      "Epoch [1/5], Step [100/600], Loss: 2.1997\n",
      "Epoch [1/5], Step [200/600], Loss: 2.1092\n",
      "Epoch [1/5], Step [300/600], Loss: 2.0363\n",
      "Epoch [1/5], Step [400/600], Loss: 1.9653\n",
      "Epoch [1/5], Step [500/600], Loss: 1.9248\n",
      "Epoch [1/5], Step [600/600], Loss: 1.7915\n",
      "Epoch [2/5], Step [100/600], Loss: 1.7388\n",
      "Epoch [2/5], Step [200/600], Loss: 1.7093\n",
      "Epoch [2/5], Step [300/600], Loss: 1.6223\n",
      "Epoch [2/5], Step [400/600], Loss: 1.4763\n",
      "Epoch [2/5], Step [500/600], Loss: 1.6109\n",
      "Epoch [2/5], Step [600/600], Loss: 1.5331\n",
      "Epoch [3/5], Step [100/600], Loss: 1.4204\n",
      "Epoch [3/5], Step [200/600], Loss: 1.4002\n",
      "Epoch [3/5], Step [300/600], Loss: 1.3274\n",
      "Epoch [3/5], Step [400/600], Loss: 1.3998\n",
      "Epoch [3/5], Step [500/600], Loss: 1.3146\n",
      "Epoch [3/5], Step [600/600], Loss: 1.3036\n",
      "Epoch [4/5], Step [100/600], Loss: 1.1320\n",
      "Epoch [4/5], Step [200/600], Loss: 1.1602\n",
      "Epoch [4/5], Step [300/600], Loss: 1.1477\n",
      "Epoch [4/5], Step [400/600], Loss: 1.1149\n",
      "Epoch [4/5], Step [500/600], Loss: 1.2178\n",
      "Epoch [4/5], Step [600/600], Loss: 1.1435\n",
      "Epoch [5/5], Step [100/600], Loss: 1.1645\n",
      "Epoch [5/5], Step [200/600], Loss: 1.0945\n",
      "Epoch [5/5], Step [300/600], Loss: 1.0834\n",
      "Epoch [5/5], Step [400/600], Loss: 1.0159\n",
      "Epoch [5/5], Step [500/600], Loss: 1.0646\n",
      "Epoch [5/5], Step [600/600], Loss: 1.0165\n",
      "Accuracy of the model on the 10000 test images: 82 %\n"
     ]
    },
    {
     "name": "stderr",
     "output_type": "stream",
     "text": [
      "..\\aten\\src\\ATen\\native\\BinaryOps.cpp:81: UserWarning: Integer division of tensors using div or / is deprecated, and in a future release div will perform true division as in Python 3. Use true_divide or floor_divide (// in Python) instead.\n"
     ]
    }
   ],
   "source": [
    "# Hyper parameters\n",
    "input_size = 28 * 28    # 784\n",
    "batch_size = 100\n",
    "num_epochs = 5\n",
    "num_classes = 10\n",
    "learning_rate = 0.001\n",
    "# MNIST dataset (images and labels)\n",
    "train_dataset = torchvision.datasets.MNIST(root='./data',train=True,transform=transforms.ToTensor(),download=True)\n",
    "test_dataset = torchvision.datasets.MNIST(root='./data',train=False,transform=transforms.ToTensor(),download=True)\n",
    "# Data loader (input pipeline)\n",
    "train_loader = torch.utils.data.DataLoader(dataset=train_dataset,batch_size=batch_size,shuffle=True)\n",
    "test_loader = torch.utils.data.DataLoader(dataset=test_dataset,batch_size=batch_size,shuffle=False)\n",
    "# Logistic regression model\n",
    "model = nn.Linear(input_size,num_classes)\n",
    "# Loss and optimizer\n",
    "# nn.CrossEntropyLoss() computes softmax internally\n",
    "criterion = nn.CrossEntropyLoss()\n",
    "optimizer = torch.optim.SGD(model.parameters(),lr=learning_rate)\n",
    "# Train the model\n",
    "total_step = len(train_loader)\n",
    "for epoch in range(num_epochs):\n",
    "    for i, (images, labels) in enumerate(train_loader):\n",
    "        # Reshape images to (batch_size, input_size)\n",
    "        images = images.reshape(-1, input_size)\n",
    "        \n",
    "        # Forward pass\n",
    "        outputs = model(images)\n",
    "        loss = criterion(outputs, labels)\n",
    "        \n",
    "        # Backward and optimize\n",
    "        optimizer.zero_grad()\n",
    "        loss.backward()\n",
    "        optimizer.step()\n",
    "        \n",
    "        if (i+1) % 100 == 0:\n",
    "            print ('Epoch [{}/{}], Step [{}/{}], Loss: {:.4f}'.format(epoch+1, num_epochs, i+1, total_step, loss.item()))\n",
    "\n",
    "# Test the model\n",
    "# In test phase, we don't need to compute gradients (for memory efficiency)\n",
    "with torch.no_grad():\n",
    "    correct = 0\n",
    "    total = 0\n",
    "    for images, labels in test_loader:\n",
    "        images = images.reshape(-1, input_size)\n",
    "        outputs = model(images)\n",
    "        _,predicted = torch.max(outputs.data,1)\n",
    "        total += labels.size(0)\n",
    "        correct += (predicted == labels).sum()\n",
    "\n",
    "    print('Accuracy of the model on the 10000 test images: {} %'.format(100 * correct / total))\n",
    "\n",
    "# Save the model checkpoint\n",
    "torch.save(model.state_dict(), 'model.ckpt')"
   ]
  },
  {
   "cell_type": "code",
   "execution_count": null,
   "metadata": {},
   "outputs": [],
   "source": []
  }
 ],
 "metadata": {
  "kernelspec": {
   "display_name": "Python 3",
   "language": "python",
   "name": "python3"
  },
  "language_info": {
   "codemirror_mode": {
    "name": "ipython",
    "version": 3
   },
   "file_extension": ".py",
   "mimetype": "text/x-python",
   "name": "python",
   "nbconvert_exporter": "python",
   "pygments_lexer": "ipython3",
   "version": "3.7.3"
  }
 },
 "nbformat": 4,
 "nbformat_minor": 4
}
