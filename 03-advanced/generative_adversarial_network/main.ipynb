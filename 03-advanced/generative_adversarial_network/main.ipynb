{
 "cells": [
  {
   "cell_type": "code",
   "execution_count": 29,
   "metadata": {},
   "outputs": [],
   "source": [
    "import os\n",
    "import torch\n",
    "import torchvision\n",
    "import torch.nn as nn\n",
    "from torchvision import transforms\n",
    "from torchvision.utils import save_image"
   ]
  },
  {
   "cell_type": "code",
   "execution_count": 30,
   "metadata": {},
   "outputs": [],
   "source": [
    "# Device configuration\n",
    "device = torch.device('cuda' if torch.cuda.is_available() else 'cpu')\n",
    "# Hyper-parameters\n",
    "latent_size = 64\n",
    "hidden_size = 256\n",
    "image_size = 784\n",
    "num_epochs = 200\n",
    "batch_size = 100\n",
    "sample_dir = 'samples'"
   ]
  },
  {
   "cell_type": "code",
   "execution_count": 31,
   "metadata": {},
   "outputs": [
    {
     "name": "stdout",
     "output_type": "stream",
     "text": [
      "Downloading http://yann.lecun.com/exdb/mnist/train-images-idx3-ubyte.gz to ../../data/MNIST\\raw\\train-images-idx3-ubyte.gz\n"
     ]
    },
    {
     "data": {
      "application/vnd.jupyter.widget-view+json": {
       "model_id": "f8895d78f1fa4614821e7e4967d9a2f9",
       "version_major": 2,
       "version_minor": 0
      },
      "text/plain": [
       "HBox(children=(FloatProgress(value=1.0, bar_style='info', max=1.0), HTML(value='')))"
      ]
     },
     "metadata": {},
     "output_type": "display_data"
    },
    {
     "name": "stdout",
     "output_type": "stream",
     "text": [
      "Extracting ../../data/MNIST\\raw\\train-images-idx3-ubyte.gz to ../../data/MNIST\\raw\n",
      "Downloading http://yann.lecun.com/exdb/mnist/train-labels-idx1-ubyte.gz to ../../data/MNIST\\raw\\train-labels-idx1-ubyte.gz\n"
     ]
    },
    {
     "data": {
      "application/vnd.jupyter.widget-view+json": {
       "model_id": "44863d65eb6846dfac750fea8839fcc2",
       "version_major": 2,
       "version_minor": 0
      },
      "text/plain": [
       "HBox(children=(FloatProgress(value=1.0, bar_style='info', max=1.0), HTML(value='')))"
      ]
     },
     "metadata": {},
     "output_type": "display_data"
    },
    {
     "name": "stdout",
     "output_type": "stream",
     "text": [
      "Extracting ../../data/MNIST\\raw\\train-labels-idx1-ubyte.gz to ../../data/MNIST\\raw\n",
      "Downloading http://yann.lecun.com/exdb/mnist/t10k-images-idx3-ubyte.gz to ../../data/MNIST\\raw\\t10k-images-idx3-ubyte.gz\n"
     ]
    },
    {
     "data": {
      "application/vnd.jupyter.widget-view+json": {
       "model_id": "d99420af9bfd47b2a727b5f9b7e35bf8",
       "version_major": 2,
       "version_minor": 0
      },
      "text/plain": [
       "HBox(children=(FloatProgress(value=1.0, bar_style='info', max=1.0), HTML(value='')))"
      ]
     },
     "metadata": {},
     "output_type": "display_data"
    },
    {
     "name": "stdout",
     "output_type": "stream",
     "text": [
      "Extracting ../../data/MNIST\\raw\\t10k-images-idx3-ubyte.gz to ../../data/MNIST\\raw\n",
      "Downloading http://yann.lecun.com/exdb/mnist/t10k-labels-idx1-ubyte.gz to ../../data/MNIST\\raw\\t10k-labels-idx1-ubyte.gz\n",
      "\n"
     ]
    },
    {
     "data": {
      "application/vnd.jupyter.widget-view+json": {
       "model_id": "4bf35aa9ece849b6b1cc923f7112da0e",
       "version_major": 2,
       "version_minor": 0
      },
      "text/plain": [
       "HBox(children=(FloatProgress(value=1.0, bar_style='info', max=1.0), HTML(value='')))"
      ]
     },
     "metadata": {},
     "output_type": "display_data"
    },
    {
     "name": "stdout",
     "output_type": "stream",
     "text": [
      "Extracting ../../data/MNIST\\raw\\t10k-labels-idx1-ubyte.gz to ../../data/MNIST\\raw\n",
      "Processing...\n",
      "Done!\n"
     ]
    }
   ],
   "source": [
    "# Create a directory if not exists\n",
    "if not os.path.exists(sample_dir):\n",
    "    os.makedirs(sample_dir)\n",
    "\n",
    "# Image processing\n",
    "# transform = transforms.Compose([\n",
    "#                 transforms.ToTensor(),\n",
    "#                 transforms.Normalize(mean=(0.5, 0.5, 0.5),   # 3 for RGB channels\n",
    "#                                      std=(0.5, 0.5, 0.5))])\n",
    "transform = transforms.Compose([\n",
    "                transforms.ToTensor(),\n",
    "                transforms.Normalize(mean=[0.5],   # 1 for greyscale channels\n",
    "                                     std=[0.5])])\n",
    "\n",
    "# MNIST dataset\n",
    "mnist = torchvision.datasets.MNIST(root='../../data/',\n",
    "                                   train=True,\n",
    "                                   transform=transform,\n",
    "                                   download=True)\n",
    "\n",
    "# Data loader\n",
    "data_loader = torch.utils.data.DataLoader(dataset=mnist,\n",
    "                                          batch_size=batch_size, \n",
    "                                          shuffle=True)\n",
    "\n",
    "# Discriminator\n",
    "D = nn.Sequential(\n",
    "    nn.Linear(image_size, hidden_size),\n",
    "    nn.LeakyReLU(0.2),\n",
    "    nn.Linear(hidden_size, hidden_size),\n",
    "    nn.LeakyReLU(0.2),\n",
    "    nn.Linear(hidden_size, 1),\n",
    "    nn.Sigmoid())\n",
    "\n",
    "# Generator \n",
    "G = nn.Sequential(\n",
    "    nn.Linear(latent_size, hidden_size),\n",
    "    nn.ReLU(),\n",
    "    nn.Linear(hidden_size, hidden_size),\n",
    "    nn.ReLU(),\n",
    "    nn.Linear(hidden_size, image_size),\n",
    "    nn.Tanh())"
   ]
  },
  {
   "cell_type": "code",
   "execution_count": null,
   "metadata": {},
   "outputs": [
    {
     "name": "stdout",
     "output_type": "stream",
     "text": [
      "Epoch [0/200], Step [200/600], d_loss: 0.0455, g_loss: 4.0841, D(x): 1.00, D(G(z)): 0.04\n",
      "Epoch [0/200], Step [400/600], d_loss: 0.1025, g_loss: 6.2210, D(x): 0.95, D(G(z)): 0.04\n",
      "Epoch [0/200], Step [600/600], d_loss: 0.0520, g_loss: 5.6166, D(x): 0.98, D(G(z)): 0.03\n",
      "Epoch [1/200], Step [200/600], d_loss: 0.0664, g_loss: 5.2521, D(x): 0.96, D(G(z)): 0.03\n",
      "Epoch [1/200], Step [400/600], d_loss: 0.0878, g_loss: 4.4709, D(x): 0.96, D(G(z)): 0.03\n",
      "Epoch [1/200], Step [600/600], d_loss: 0.0906, g_loss: 5.3138, D(x): 0.97, D(G(z)): 0.05\n",
      "Epoch [2/200], Step [200/600], d_loss: 0.0920, g_loss: 4.1932, D(x): 1.00, D(G(z)): 0.08\n",
      "Epoch [2/200], Step [400/600], d_loss: 0.5435, g_loss: 3.9673, D(x): 0.89, D(G(z)): 0.27\n",
      "Epoch [2/200], Step [600/600], d_loss: 0.3937, g_loss: 5.2287, D(x): 0.91, D(G(z)): 0.13\n",
      "Epoch [3/200], Step [200/600], d_loss: 0.5814, g_loss: 2.7246, D(x): 0.80, D(G(z)): 0.16\n",
      "Epoch [3/200], Step [400/600], d_loss: 0.5735, g_loss: 2.9350, D(x): 0.84, D(G(z)): 0.18\n",
      "Epoch [3/200], Step [600/600], d_loss: 1.4382, g_loss: 2.9642, D(x): 0.64, D(G(z)): 0.30\n",
      "Epoch [4/200], Step [200/600], d_loss: 0.2731, g_loss: 3.1622, D(x): 0.91, D(G(z)): 0.14\n",
      "Epoch [4/200], Step [400/600], d_loss: 0.2688, g_loss: 3.3439, D(x): 0.93, D(G(z)): 0.11\n",
      "Epoch [4/200], Step [600/600], d_loss: 0.3522, g_loss: 2.4459, D(x): 0.87, D(G(z)): 0.16\n",
      "Epoch [5/200], Step [200/600], d_loss: 0.6038, g_loss: 3.0324, D(x): 0.84, D(G(z)): 0.14\n",
      "Epoch [5/200], Step [400/600], d_loss: 0.4179, g_loss: 4.0928, D(x): 0.90, D(G(z)): 0.15\n",
      "Epoch [5/200], Step [600/600], d_loss: 0.3573, g_loss: 2.5471, D(x): 0.93, D(G(z)): 0.18\n",
      "Epoch [6/200], Step [200/600], d_loss: 0.3531, g_loss: 3.1910, D(x): 0.88, D(G(z)): 0.07\n",
      "Epoch [6/200], Step [400/600], d_loss: 0.3857, g_loss: 2.7782, D(x): 0.91, D(G(z)): 0.15\n",
      "Epoch [6/200], Step [600/600], d_loss: 0.4747, g_loss: 2.6001, D(x): 0.88, D(G(z)): 0.16\n",
      "Epoch [7/200], Step [200/600], d_loss: 0.3802, g_loss: 3.6996, D(x): 0.88, D(G(z)): 0.11\n",
      "Epoch [7/200], Step [400/600], d_loss: 0.1700, g_loss: 3.8455, D(x): 0.93, D(G(z)): 0.04\n",
      "Epoch [7/200], Step [600/600], d_loss: 0.5933, g_loss: 2.6571, D(x): 0.78, D(G(z)): 0.06\n",
      "Epoch [8/200], Step [200/600], d_loss: 0.1757, g_loss: 3.5316, D(x): 0.93, D(G(z)): 0.06\n",
      "Epoch [8/200], Step [400/600], d_loss: 0.0850, g_loss: 5.9282, D(x): 0.97, D(G(z)): 0.02\n",
      "Epoch [8/200], Step [600/600], d_loss: 0.0954, g_loss: 4.8976, D(x): 0.97, D(G(z)): 0.03\n",
      "Epoch [9/200], Step [200/600], d_loss: 0.2513, g_loss: 5.4168, D(x): 0.96, D(G(z)): 0.10\n",
      "Epoch [9/200], Step [400/600], d_loss: 0.1509, g_loss: 4.9635, D(x): 0.95, D(G(z)): 0.06\n",
      "Epoch [9/200], Step [600/600], d_loss: 0.1020, g_loss: 5.1754, D(x): 0.97, D(G(z)): 0.03\n",
      "Epoch [10/200], Step [200/600], d_loss: 0.1963, g_loss: 5.9783, D(x): 0.95, D(G(z)): 0.07\n",
      "Epoch [10/200], Step [400/600], d_loss: 0.0707, g_loss: 6.7246, D(x): 0.97, D(G(z)): 0.01\n",
      "Epoch [10/200], Step [600/600], d_loss: 0.2811, g_loss: 5.7635, D(x): 0.90, D(G(z)): 0.04\n",
      "Epoch [11/200], Step [200/600], d_loss: 0.2304, g_loss: 4.6711, D(x): 0.94, D(G(z)): 0.08\n",
      "Epoch [11/200], Step [400/600], d_loss: 0.2662, g_loss: 5.0548, D(x): 0.89, D(G(z)): 0.02\n",
      "Epoch [11/200], Step [600/600], d_loss: 0.2589, g_loss: 3.7283, D(x): 0.90, D(G(z)): 0.05\n",
      "Epoch [12/200], Step [200/600], d_loss: 0.1737, g_loss: 4.7284, D(x): 0.95, D(G(z)): 0.07\n",
      "Epoch [12/200], Step [400/600], d_loss: 0.1227, g_loss: 5.4169, D(x): 0.98, D(G(z)): 0.06\n",
      "Epoch [12/200], Step [600/600], d_loss: 0.0988, g_loss: 6.1376, D(x): 0.97, D(G(z)): 0.06\n",
      "Epoch [13/200], Step [200/600], d_loss: 0.1187, g_loss: 4.7972, D(x): 0.99, D(G(z)): 0.10\n",
      "Epoch [13/200], Step [400/600], d_loss: 0.1631, g_loss: 5.4873, D(x): 0.98, D(G(z)): 0.10\n",
      "Epoch [13/200], Step [600/600], d_loss: 0.0118, g_loss: 9.0984, D(x): 1.00, D(G(z)): 0.01\n",
      "Epoch [14/200], Step [200/600], d_loss: 0.0753, g_loss: 6.1486, D(x): 0.98, D(G(z)): 0.05\n",
      "Epoch [14/200], Step [400/600], d_loss: 0.2019, g_loss: 5.6206, D(x): 0.96, D(G(z)): 0.10\n",
      "Epoch [14/200], Step [600/600], d_loss: 0.1928, g_loss: 4.1970, D(x): 0.95, D(G(z)): 0.07\n",
      "Epoch [15/200], Step [200/600], d_loss: 0.2407, g_loss: 5.3742, D(x): 0.92, D(G(z)): 0.07\n",
      "Epoch [15/200], Step [400/600], d_loss: 0.1005, g_loss: 5.4428, D(x): 0.96, D(G(z)): 0.02\n",
      "Epoch [15/200], Step [600/600], d_loss: 0.1462, g_loss: 5.0610, D(x): 0.95, D(G(z)): 0.04\n",
      "Epoch [16/200], Step [200/600], d_loss: 0.1241, g_loss: 6.4546, D(x): 0.95, D(G(z)): 0.04\n",
      "Epoch [16/200], Step [400/600], d_loss: 0.1235, g_loss: 7.0907, D(x): 0.96, D(G(z)): 0.04\n",
      "Epoch [16/200], Step [600/600], d_loss: 0.2500, g_loss: 5.1526, D(x): 0.95, D(G(z)): 0.09\n",
      "Epoch [17/200], Step [200/600], d_loss: 0.2780, g_loss: 4.7081, D(x): 0.95, D(G(z)): 0.11\n",
      "Epoch [17/200], Step [400/600], d_loss: 0.3043, g_loss: 3.0879, D(x): 0.97, D(G(z)): 0.15\n",
      "Epoch [17/200], Step [600/600], d_loss: 0.1342, g_loss: 5.8483, D(x): 0.96, D(G(z)): 0.05\n",
      "Epoch [18/200], Step [200/600], d_loss: 0.0958, g_loss: 4.1576, D(x): 0.95, D(G(z)): 0.02\n",
      "Epoch [18/200], Step [400/600], d_loss: 0.2695, g_loss: 5.6025, D(x): 0.91, D(G(z)): 0.01\n",
      "Epoch [18/200], Step [600/600], d_loss: 0.0977, g_loss: 5.3073, D(x): 0.98, D(G(z)): 0.05\n",
      "Epoch [19/200], Step [200/600], d_loss: 0.1556, g_loss: 4.9509, D(x): 0.98, D(G(z)): 0.09\n",
      "Epoch [19/200], Step [400/600], d_loss: 0.2845, g_loss: 3.9210, D(x): 0.95, D(G(z)): 0.09\n",
      "Epoch [19/200], Step [600/600], d_loss: 0.1569, g_loss: 4.5276, D(x): 0.97, D(G(z)): 0.09\n",
      "Epoch [20/200], Step [200/600], d_loss: 0.1269, g_loss: 5.1963, D(x): 0.97, D(G(z)): 0.07\n",
      "Epoch [20/200], Step [400/600], d_loss: 0.0852, g_loss: 4.5170, D(x): 0.98, D(G(z)): 0.06\n",
      "Epoch [20/200], Step [600/600], d_loss: 0.3408, g_loss: 3.4127, D(x): 0.89, D(G(z)): 0.06\n",
      "Epoch [21/200], Step [200/600], d_loss: 0.3199, g_loss: 4.0636, D(x): 0.98, D(G(z)): 0.18\n",
      "Epoch [21/200], Step [400/600], d_loss: 0.3158, g_loss: 5.6525, D(x): 0.92, D(G(z)): 0.04\n",
      "Epoch [21/200], Step [600/600], d_loss: 0.1294, g_loss: 5.4183, D(x): 0.95, D(G(z)): 0.05\n",
      "Epoch [22/200], Step [200/600], d_loss: 0.3535, g_loss: 5.6311, D(x): 0.93, D(G(z)): 0.10\n",
      "Epoch [22/200], Step [400/600], d_loss: 0.1183, g_loss: 3.9517, D(x): 0.95, D(G(z)): 0.04\n",
      "Epoch [22/200], Step [600/600], d_loss: 0.1954, g_loss: 4.1600, D(x): 0.94, D(G(z)): 0.08\n",
      "Epoch [23/200], Step [200/600], d_loss: 0.2188, g_loss: 4.1367, D(x): 0.93, D(G(z)): 0.08\n",
      "Epoch [23/200], Step [400/600], d_loss: 0.2121, g_loss: 4.4054, D(x): 0.98, D(G(z)): 0.14\n",
      "Epoch [23/200], Step [600/600], d_loss: 0.2984, g_loss: 4.0094, D(x): 0.94, D(G(z)): 0.06\n",
      "Epoch [24/200], Step [200/600], d_loss: 0.2395, g_loss: 5.3767, D(x): 0.94, D(G(z)): 0.08\n",
      "Epoch [24/200], Step [400/600], d_loss: 0.3444, g_loss: 3.1677, D(x): 0.92, D(G(z)): 0.10\n",
      "Epoch [24/200], Step [600/600], d_loss: 0.1904, g_loss: 6.1717, D(x): 0.95, D(G(z)): 0.07\n",
      "Epoch [25/200], Step [200/600], d_loss: 0.2324, g_loss: 4.3145, D(x): 0.92, D(G(z)): 0.08\n",
      "Epoch [25/200], Step [400/600], d_loss: 0.2071, g_loss: 3.3554, D(x): 0.95, D(G(z)): 0.10\n",
      "Epoch [25/200], Step [600/600], d_loss: 0.2846, g_loss: 4.4056, D(x): 0.92, D(G(z)): 0.10\n",
      "Epoch [26/200], Step [200/600], d_loss: 0.3833, g_loss: 4.8722, D(x): 0.96, D(G(z)): 0.17\n",
      "Epoch [26/200], Step [400/600], d_loss: 0.3827, g_loss: 5.1142, D(x): 0.92, D(G(z)): 0.12\n",
      "Epoch [26/200], Step [600/600], d_loss: 0.3233, g_loss: 6.1628, D(x): 0.87, D(G(z)): 0.02\n",
      "Epoch [27/200], Step [200/600], d_loss: 0.3898, g_loss: 4.0667, D(x): 0.87, D(G(z)): 0.05\n",
      "Epoch [27/200], Step [400/600], d_loss: 0.2819, g_loss: 3.0498, D(x): 0.90, D(G(z)): 0.09\n",
      "Epoch [27/200], Step [600/600], d_loss: 0.4064, g_loss: 4.3314, D(x): 0.86, D(G(z)): 0.07\n",
      "Epoch [28/200], Step [200/600], d_loss: 0.3117, g_loss: 4.1085, D(x): 0.92, D(G(z)): 0.11\n",
      "Epoch [28/200], Step [400/600], d_loss: 0.3442, g_loss: 3.5107, D(x): 0.97, D(G(z)): 0.18\n",
      "Epoch [28/200], Step [600/600], d_loss: 0.3111, g_loss: 4.9091, D(x): 0.88, D(G(z)): 0.06\n",
      "Epoch [29/200], Step [200/600], d_loss: 0.3279, g_loss: 4.4186, D(x): 0.93, D(G(z)): 0.15\n"
     ]
    }
   ],
   "source": [
    "# Device setting\n",
    "D = D.to(device)\n",
    "G = G.to(device)\n",
    "\n",
    "# Binary cross entropy loss and optimizer\n",
    "criterion = nn.BCELoss()\n",
    "d_optimizer = torch.optim.Adam(D.parameters(), lr=0.0002)\n",
    "g_optimizer = torch.optim.Adam(G.parameters(), lr=0.0002)\n",
    "\n",
    "def denorm(x):\n",
    "    out = (x + 1) / 2\n",
    "    return out.clamp(0, 1)\n",
    "\n",
    "def reset_grad():\n",
    "    d_optimizer.zero_grad()\n",
    "    g_optimizer.zero_grad()\n",
    "\n",
    "# Start training\n",
    "total_step = len(data_loader)\n",
    "for epoch in range(num_epochs):\n",
    "    for i, (images, _) in enumerate(data_loader):\n",
    "        images = images.reshape(batch_size, -1).to(device)\n",
    "        \n",
    "        # Create the labels which are later used as input for the BCE loss\n",
    "        real_labels = torch.ones(batch_size, 1).to(device)\n",
    "        fake_labels = torch.zeros(batch_size, 1).to(device)\n",
    "\n",
    "        # ================================================================== #\n",
    "        #                      Train the discriminator                       #\n",
    "        # ================================================================== #\n",
    "\n",
    "        # Compute BCE_Loss using real images where BCE_Loss(x, y): - y * log(D(x)) - (1-y) * log(1 - D(x))\n",
    "        # Second term of the loss is always zero since real_labels == 1\n",
    "        outputs = D(images)\n",
    "        d_loss_real = criterion(outputs, real_labels)\n",
    "        real_score = outputs\n",
    "        \n",
    "        # Compute BCELoss using fake images\n",
    "        # First term of the loss is always zero since fake_labels == 0\n",
    "        z = torch.randn(batch_size, latent_size).to(device)\n",
    "        fake_images = G(z)\n",
    "        outputs = D(fake_images)\n",
    "        d_loss_fake = criterion(outputs, fake_labels)\n",
    "        fake_score = outputs\n",
    "        \n",
    "        # Backprop and optimize\n",
    "        d_loss = d_loss_real + d_loss_fake\n",
    "        reset_grad()\n",
    "        d_loss.backward()\n",
    "        d_optimizer.step()\n",
    "        \n",
    "        # ================================================================== #\n",
    "        #                        Train the generator                         #\n",
    "        # ================================================================== #\n",
    "\n",
    "        # Compute loss with fake images\n",
    "        z = torch.randn(batch_size, latent_size).to(device)\n",
    "        fake_images = G(z)\n",
    "        outputs = D(fake_images)\n",
    "        \n",
    "        # We train G to maximize log(D(G(z)) instead of minimizing log(1-D(G(z)))\n",
    "        # For the reason, see the last paragraph of section 3. https://arxiv.org/pdf/1406.2661.pdf\n",
    "        g_loss = criterion(outputs, real_labels)\n",
    "        \n",
    "        # Backprop and optimize\n",
    "        reset_grad()\n",
    "        g_loss.backward()\n",
    "        g_optimizer.step()\n",
    "        \n",
    "        if (i+1) % 200 == 0:\n",
    "            print('Epoch [{}/{}], Step [{}/{}], d_loss: {:.4f}, g_loss: {:.4f}, D(x): {:.2f}, D(G(z)): {:.2f}' \n",
    "                  .format(epoch, num_epochs, i+1, total_step, d_loss.item(), g_loss.item(), \n",
    "                          real_score.mean().item(), fake_score.mean().item()))\n",
    "    \n",
    "    # Save real images\n",
    "    if (epoch+1) == 1:\n",
    "        images = images.reshape(images.size(0), 1, 28, 28)\n",
    "        save_image(denorm(images), os.path.join(sample_dir, 'real_images.png'))\n",
    "    \n",
    "    # Save sampled images\n",
    "    fake_images = fake_images.reshape(fake_images.size(0), 1, 28, 28)\n",
    "    save_image(denorm(fake_images), os.path.join(sample_dir, 'fake_images-{}.png'.format(epoch+1)))"
   ]
  },
  {
   "cell_type": "code",
   "execution_count": null,
   "metadata": {},
   "outputs": [],
   "source": [
    "# Save the model checkpoints \n",
    "torch.save(G.state_dict(), 'G.ckpt')\n",
    "torch.save(D.state_dict(), 'D.ckpt')"
   ]
  }
 ],
 "metadata": {
  "kernelspec": {
   "display_name": "Python 3",
   "language": "python",
   "name": "python3"
  },
  "language_info": {
   "codemirror_mode": {
    "name": "ipython",
    "version": 3
   },
   "file_extension": ".py",
   "mimetype": "text/x-python",
   "name": "python",
   "nbconvert_exporter": "python",
   "pygments_lexer": "ipython3",
   "version": "3.7.3"
  }
 },
 "nbformat": 4,
 "nbformat_minor": 4
}
